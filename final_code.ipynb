{
 "cells": [
  {
   "cell_type": "markdown",
   "metadata": {
    "id": "-T-XcTCQWZGX"
   },
   "source": [
    "# Setup"
   ]
  },
  {
   "cell_type": "code",
   "execution_count": 1,
   "metadata": {
    "colab": {
     "base_uri": "https://localhost:8080/"
    },
    "executionInfo": {
     "elapsed": 7434,
     "status": "ok",
     "timestamp": 1708233075024,
     "user": {
      "displayName": "Winn Leelamanthep",
      "userId": "08251602080468069325"
     },
     "user_tz": 300
    },
    "id": "P0pfkKTsVhaK",
    "outputId": "76b5ac77-f86d-484e-ef52-bfa9ec9f662f"
   },
   "outputs": [
    {
     "name": "stderr",
     "output_type": "stream",
     "text": [
      "/Users/Shared/Main/CMU/Assignments/DSHS/project/90-835-Team-Project/env/lib/python3.11/site-packages/tqdm/auto.py:21: TqdmWarning: IProgress not found. Please update jupyter and ipywidgets. See https://ipywidgets.readthedocs.io/en/stable/user_install.html\n",
      "  from .autonotebook import tqdm as notebook_tqdm\n"
     ]
    }
   ],
   "source": [
    "# !pip install --upgrade gradio\n",
    "# !pip install fpdf\n",
    "\n",
    "from fpdf import FPDF\n",
    "import gradio as gr\n",
    "import json\n",
    "import os"
   ]
  },
  {
   "cell_type": "code",
   "execution_count": 2,
   "metadata": {},
   "outputs": [],
   "source": [
    "# pip install openai==1.12.0"
   ]
  },
  {
   "cell_type": "code",
   "execution_count": 3,
   "metadata": {
    "colab": {
     "base_uri": "https://localhost:8080/"
    },
    "executionInfo": {
     "elapsed": 832,
     "status": "ok",
     "timestamp": 1708233075851,
     "user": {
      "displayName": "Winn Leelamanthep",
      "userId": "08251602080468069325"
     },
     "user_tz": 300
    },
    "id": "RI2VSH6HaKF-",
    "outputId": "006cd143-82df-4aef-dfca-5af220f4f9e0"
   },
   "outputs": [
    {
     "name": "stdout",
     "output_type": "stream",
     "text": [
      "1.75.0\n"
     ]
    }
   ],
   "source": [
    "import openai\n",
    "from openai import OpenAI\n",
    "\n",
    "print(openai.__version__) # version - 1.12.0\n"
   ]
  },
  {
   "cell_type": "markdown",
   "metadata": {
    "id": "wQpX233aoinx"
   },
   "source": [
    "### storing real credentials.json inside a google drive folder is not secure and not best practice\n",
    "### please download the folder, create a github repo, then create a .gitignore"
   ]
  },
  {
   "cell_type": "markdown",
   "metadata": {
    "id": "YMgRdrpVXAgx"
   },
   "source": [
    "# Load data and credentials"
   ]
  },
  {
   "cell_type": "code",
   "execution_count": 4,
   "metadata": {
    "id": "WzK0JyP6XbZK"
   },
   "outputs": [],
   "source": [
    "# You should not store API keys in a google drive folder - it is not secure. If using github, add credentials.json to .gitignore.\n",
    "import json\n",
    "credentials_path = 'credentials.json'\n",
    "\n",
    "with open(credentials_path, 'r') as file:\n",
    "    credentials = json.load(file)\n",
    "\n",
    "openai_api_key = credentials['openai_api_key']\n",
    "\n",
    "# Use the API key as needed, for example, to configure OpenAI's API client\n",
    "openai.api_key = openai_api_key\n"
   ]
  },
  {
   "cell_type": "code",
   "execution_count": null,
   "metadata": {
    "colab": {
     "base_uri": "https://localhost:8080/"
    },
    "id": "he226yj3VkF5",
    "outputId": "3c0bc418-dc1b-4430-fe5f-b2793e01624f"
   },
   "outputs": [
    {
     "name": "stdout",
     "output_type": "stream",
     "text": [
      "{'age': 70, 'gender': 'Male', 'admission_date': '2024-02-10', 'discharge_date': '2024-02-14'}\n"
     ]
    }
   ],
   "source": [
    "import json\n",
    "\n",
    "# Update the path if your file is in a different location\n",
    "file_path = 'data/data.json'\n",
    "\n",
    "with open(file_path, 'r') as file:\n",
    "    patient_data = json.load(file)\n",
    "\n",
    "# To verify, print a part of the data\n",
    "patient_data.pop('patient_id', None)\n",
    "if 'name' in patient_data['patient_demographics']:\n",
    "    patient_data['patient_demographics'].pop('name', None)\n",
    "\n",
    "print(patient_data['patient_demographics'])"
   ]
  },
  {
   "cell_type": "markdown",
   "metadata": {
    "id": "Yicw--qjYd-m"
   },
   "source": [
    "# Explore data"
   ]
  },
  {
   "cell_type": "code",
   "execution_count": 6,
   "metadata": {
    "colab": {
     "base_uri": "https://localhost:8080/"
    },
    "id": "yeAfWIk8XmLq",
    "outputId": "9c97bc57-7fef-4813-95b5-491e37ee55e0"
   },
   "outputs": [
    {
     "name": "stdout",
     "output_type": "stream",
     "text": [
      "Data type: <class 'dict'>\n"
     ]
    }
   ],
   "source": [
    "print(f'Data type: {type(patient_data)}')"
   ]
  },
  {
   "cell_type": "code",
   "execution_count": 7,
   "metadata": {
    "colab": {
     "base_uri": "https://localhost:8080/"
    },
    "id": "uU8OUSzUYlEA",
    "outputId": "dff41a90-4e39-4f0f-b9d9-7644581d5449"
   },
   "outputs": [
    {
     "name": "stdout",
     "output_type": "stream",
     "text": [
      "Keys in data: dict_keys(['patient_demographics', 'diagnoses', 'drg', 'encounters', 'flowsheets', 'imaging', 'labs', 'med_orders', 'notes'])\n"
     ]
    }
   ],
   "source": [
    "print(f'Keys in data: {(patient_data.keys())}')"
   ]
  },
  {
   "cell_type": "code",
   "execution_count": 8,
   "metadata": {
    "colab": {
     "base_uri": "https://localhost:8080/"
    },
    "id": "WxxqbxbFYrFV",
    "outputId": "5f391dd1-5fa9-43cd-f307-38a403778406"
   },
   "outputs": [
    {
     "data": {
      "text/plain": [
       "[{'date': '2024-02-10',\n",
       "  'type': 'Admission',\n",
       "  'reason': 'Cough, shortness of breath, hemoptysis, fever'},\n",
       " {'date': '2024-02-14', 'type': 'Discharge'}]"
      ]
     },
     "execution_count": 8,
     "metadata": {},
     "output_type": "execute_result"
    }
   ],
   "source": [
    "# Look at encounters data, there are multiple\n",
    "patient_data['encounters']"
   ]
  },
  {
   "cell_type": "code",
   "execution_count": 9,
   "metadata": {
    "colab": {
     "base_uri": "https://localhost:8080/"
    },
    "id": "hJ4Kc6PlZFv1",
    "outputId": "392fe253-ba48-4d41-fc49-9c4119f91f10"
   },
   "outputs": [
    {
     "data": {
      "text/plain": [
       "[{'date': '2024-02-10',\n",
       "  'time': '08:00',\n",
       "  'temperature': '38.5°C',\n",
       "  'heart_rate': '90 bpm',\n",
       "  'blood_pressure': '130/85 mmHg',\n",
       "  'respiratory_rate': '20 breaths/min',\n",
       "  'oxygen_saturation': '92%'},\n",
       " {'date': '2024-02-11',\n",
       "  'time': '08:00',\n",
       "  'temperature': '37.8°C',\n",
       "  'heart_rate': '85 bpm',\n",
       "  'blood_pressure': '125/80 mmHg',\n",
       "  'respiratory_rate': '18 breaths/min',\n",
       "  'oxygen_saturation': '94%'},\n",
       " {'date': '2024-02-12',\n",
       "  'time': '08:00',\n",
       "  'temperature': '37°C',\n",
       "  'heart_rate': '80 bpm',\n",
       "  'blood_pressure': '120/75 mmHg',\n",
       "  'respiratory_rate': '16 breaths/min',\n",
       "  'oxygen_saturation': '96%'},\n",
       " {'date': '2024-02-13',\n",
       "  'time': '08:00',\n",
       "  'temperature': '36.5°C',\n",
       "  'heart_rate': '78 bpm',\n",
       "  'blood_pressure': '118/74 mmHg',\n",
       "  'respiratory_rate': '14 breaths/min',\n",
       "  'oxygen_saturation': '98%'}]"
      ]
     },
     "execution_count": 9,
     "metadata": {},
     "output_type": "execute_result"
    }
   ],
   "source": [
    "# Look at flowsheets data, there are multiple\n",
    "patient_data['flowsheets']"
   ]
  },
  {
   "cell_type": "code",
   "execution_count": 10,
   "metadata": {
    "colab": {
     "base_uri": "https://localhost:8080/"
    },
    "id": "PpHpIgzpZSDK",
    "outputId": "53335bb8-aadd-41c1-fe98-e29a7c0cdea1"
   },
   "outputs": [
    {
     "data": {
      "text/plain": [
       "[{'date': '2024-02-10',\n",
       "  'author': 'Dr. Smith',\n",
       "  'note_type': 'Admission Note',\n",
       "  'content': 'Patient admitted with symptoms indicative of pneumonia. Initiated empirical antibiotic therapy.'},\n",
       " {'date': '2024-02-11',\n",
       "  'author': 'Dr. Smith',\n",
       "  'note_type': 'Ward Round Note',\n",
       "  'content': 'Patient shows signs of improvement. CRP levels declining. Continue with current antibiotic regimen. Monitor for any adverse reactions.'},\n",
       " {'date': '2024-02-12',\n",
       "  'author': 'Dr. Smith',\n",
       "  'note_type': 'Ward Round Note',\n",
       "  'content': \"Patient's temperature normalized. Oxygen saturation levels stable. Plan to switch to oral antibiotics tomorrow.\"},\n",
       " {'date': '2024-02-13',\n",
       "  'author': 'Dr. Smith',\n",
       "  'note_type': 'Ward Round Note',\n",
       "  'content': 'Patient continues to improve. CRP and WBC trending down. Ready for discharge planning.'},\n",
       " {'date': '2024-02-14',\n",
       "  'author': 'Dr. Smith',\n",
       "  'note_type': 'Discharge Summary',\n",
       "  'content': \"Patient's condition improved with treatment. Medically fit for discharge. Home with instructions for oral antibiotics for 5 more days. Follow-up in outpatient clinic in two weeks.\"}]"
      ]
     },
     "execution_count": 10,
     "metadata": {},
     "output_type": "execute_result"
    }
   ],
   "source": [
    "patient_data['notes']"
   ]
  },
  {
   "cell_type": "markdown",
   "metadata": {
    "id": "eOMsxxnLadMZ"
   },
   "source": [
    "# Sample zero-shot solution\n",
    "This is a first attempt where we pass in everything and provide basic prompt engineering. This is a baseline solution. Your solutions should improve from this."
   ]
  },
  {
   "cell_type": "code",
   "execution_count": 11,
   "metadata": {
    "id": "1REJ338Bbc6y"
   },
   "outputs": [],
   "source": [
    "client = OpenAI(api_key=openai_api_key)"
   ]
  },
  {
   "cell_type": "code",
   "execution_count": 12,
   "metadata": {
    "id": "Bhhzo4DTb1VX"
   },
   "outputs": [],
   "source": [
    "# def generate_patient_summary_v1(patient_data, additional_prompts=''):\n",
    "#     \"\"\"\n",
    "#     Generates a patient summary using OpenAI's GPT-3.5.\n",
    "\n",
    "#     Parameters:\n",
    "#     - patient_data (str): The patient data to generate the summary from.\n",
    "#     - additional_prompts (str): Try prompt engineering here.\n",
    "\n",
    "#     Returns:\n",
    "#     - str: The generated patient summary.\n",
    "#     \"\"\"\n",
    "\n",
    "#     # Initialize the OpenAI client with your API key\n",
    "#     client = OpenAI(api_key=openai_api_key)\n",
    "\n",
    "#     # Create the chat completion request with the patient data\n",
    "#     chat_completion = client.chat.completions.create(\n",
    "#         messages=[\n",
    "#             {\n",
    "#                 \"role\": \"user\",\n",
    "#                 \"content\": f\"\"\"\n",
    "#                               You are an experienced and detail-oriented physician writing a discharge summary for another clinician.\n",
    "# Use the structured patient data provided to create a well-written, narrative-style discharge letter that clearly describes the patient’s hospitalization.\n",
    "# \tThe summary should be written in paragraph form — avoid lists or bullet points.\n",
    "\n",
    "# \t✍️ Discharge Summary Guidelines:\n",
    "# \t\t•\tBegin with the presentation: why the patient came in, symptoms on arrival, relevant exam findings.\n",
    "# \t•\tDescribe key investigations: include only significant test results or pending follow-ups.\n",
    "# \t•\tState the final diagnosis (include specificity, e.g., “bacterial pneumonia,” not just “pneumonia”).\n",
    "# \t•\tDescribe the hospital course in chronological order: treatment, response, medication changes, and progress.\n",
    "# \t•\tMention any complications that occurred and how they were managed or resolved.\n",
    "# \t•\tDocument any procedures performed, including the date and relevant outcomes.\n",
    "# \t•\tProvide a clear discharge plan: current medications, outstanding issues, and follow-up instructions.\n",
    "# \t•\tConclude with a brief comment on the patient’s condition at discharge (functional status, vitals, mobility).\n",
    "\n",
    "# \tEnsure the summary:\n",
    "# \t\t•\tUses professional clinical language\n",
    "# \t•\tIs easy to read and logically structured\n",
    "# \t•\tIncludes specific and relevant clinical data\n",
    "# \t•\tClearly outlines follow-up needs for continuity of care\n",
    "    \n",
    "# \tExample Output Style:\n",
    "\n",
    "# \t“Mr. Smith was admitted on March 3rd with worsening breathlessness and productive cough. On arrival, he was febrile and hypoxic with left lower lobe crackles. Chest X-ray confirmed left lower lobe consolidation. He was diagnosed with community-acquired pneumonia and started on IV antibiotics. Over the next four days, he showed good clinical improvement with normalization of CRP and WBC levels. Antibiotics were stepped down to oral form on Day 4. He was discharged home on Day 5 with instructions to complete a 5-day course of amoxicillin and follow up with his GP in one week…”\n",
    "#                               {additional_prompts}\n",
    "#                               Data: {patient_data}\n",
    "#                 \"\"\",\n",
    "#             }\n",
    "#         ],\n",
    "#         model=\"gpt-3.5-turbo\",\n",
    "#     )\n",
    "\n",
    "#     # Return the content of the generated message\n",
    "#     return chat_completion.choices[0].message.content"
   ]
  },
  {
   "cell_type": "code",
   "execution_count": 13,
   "metadata": {},
   "outputs": [],
   "source": [
    "def generate_patient_summary(patient_data, additional_prompts=''):\n",
    "    \"\"\"\n",
    "    Generates a patient summary using OpenAI's GPT-3.5.\n",
    "\n",
    "    Parameters:\n",
    "    - patient_data (str): The patient data to generate the summary from.\n",
    "    - additional_prompts (str): Try prompt engineering here.\n",
    "\n",
    "    Returns:\n",
    "    - str: The generated patient summary.\n",
    "    \"\"\"\n",
    "\n",
    "    # Initialize the OpenAI client with your API key\n",
    "    client = OpenAI(api_key=openai_api_key)\n",
    "\n",
    "    # Create the chat completion request with the patient data\n",
    "    chat_completion = client.chat.completions.create(\n",
    "        messages=[\n",
    "            {\n",
    "                \"role\": \"user\",\n",
    "                \"content\": f\"\"\"\n",
    "                              You are a clinical language model tasked with generating a hospital discharge summary from patient data.\n",
    "\n",
    "Your goal is to write a clear, professional discharge summary in a narrative paragraph form, as if written by a physician for a real-world care transition.\n",
    "\n",
    "IMPORTANT INSTRUCTIONS:\n",
    "\n",
    "•⁠  ⁠If the patient’s \"discharge_ready\" field is false or not present, DO NOT produce any output (return an empty result).\n",
    "•⁠  ⁠If \"discharge_ready\" is true, proceed to generate the discharge summary.\n",
    "•⁠  ⁠Under no circumstance should the summary include any personally identifiable information (PII). Do NOT include:\n",
    "  - Patient’s full name\n",
    "  - Date of birth\n",
    "  - Medical record number\n",
    "  - Addresses\n",
    "  - Contact details\n",
    "Refer to the individual only as \"the patient\" or \"this patient.\"\n",
    "\n",
    "DISCHARGE SUMMARY REQUIREMENTS:\n",
    "\n",
    "Write the summary using natural, flowing paragraphs — not lists or bullet points. Include the following:\n",
    "\n",
    "•\tBegin with the presentation: why the patient came in, symptoms on arrival, relevant exam findings.\n",
    "\t•\tDescribe key investigations: include only significant test results or pending follow-ups.\n",
    "\t•\tState the final diagnosis (include specificity, e.g., “bacterial pneumonia,” not just “pneumonia”).\n",
    "\t•\tDescribe the hospital course in chronological order: treatment, response, medication changes, and progress.\n",
    "\t•\tMention any complications that occurred and how they were managed or resolved.\n",
    "\t•\tDocument any procedures performed, including the date and relevant outcomes.\n",
    "\t•\tProvide a clear discharge plan: current medications, outstanding issues, and follow-up instructions.\n",
    "\t•\tConclude with a brief comment on the patient’s condition at discharge (functional status, vitals, mobility).\n",
    "Ensure the summary:\n",
    "\t\t•\tUses professional clinical language\n",
    "\t•\tIs easy to read and logically structured\n",
    "\t•\tIncludes specific and relevant clinical data\n",
    "\t•\tClearly outlines follow-up needs for continuity of care\n",
    "    \n",
    "STYLE & TONE:\n",
    "\n",
    "•⁠  ⁠Use a formal, clinical tone and full sentences.\n",
    "•⁠  ⁠Keep the summary focused, clear, and easy to interpret for other providers.\n",
    "•⁠  ⁠Organize information in a logical narrative: start with diagnosis and admission, followed by hospital course, and conclude with discharge planning.\n",
    "•⁠  ⁠Again, do NOT include any patient identifiers — respect privacy at all times.\n",
    "\n",
    "Now, based on the patient_json input, if the patient is cleared for discharge, generate the discharge summary in full paragraphs. If the patient is not ready for discharge, output nothing.\n",
    "\n",
    "                              {additional_prompts}\n",
    "                              Data: {patient_data}\n",
    "                \"\"\",\n",
    "            }\n",
    "        ],\n",
    "        model=\"gpt-3.5-turbo\",\n",
    "    )\n",
    "\n",
    "    # Return the content of the generated message\n",
    "    return chat_completion.choices[0].message.content"
   ]
  },
  {
   "cell_type": "code",
   "execution_count": 14,
   "metadata": {
    "colab": {
     "base_uri": "https://localhost:8080/"
    },
    "id": "pmvWQodGcCcG",
    "outputId": "cde0200e-306e-4795-9df1-bc9a2380ade9"
   },
   "outputs": [
    {
     "name": "stdout",
     "output_type": "stream",
     "text": [
      "Discharge Summary:\n",
      "\n",
      "The patient, a 70-year-old male, was admitted on 10th February 2024 presenting with symptoms of cough, shortness of breath, hemoptysis, and fever. Initial examination revealed a temperature of 38.5°C, heart rate of 90 bpm, blood pressure of 130/85 mmHg, respiratory rate of 20 breaths/min, and oxygen saturation of 92%. Chest X-ray showed consolidation in the left lower lobe, consistent with the diagnosis of lobar pneumonia, unspecified organism.\n",
      "\n",
      "Key investigations indicated an elevated CRP of 60 mg/L and a WBC count of 12 x10^9/L on admission, supporting the diagnosis. The patient was promptly started on Amoxicillin IV along with supportive care. Over the hospital course, the patient showed gradual improvement with decreasing inflammatory markers and stable vital signs.\n",
      "\n",
      "By the 13th of February, the patient's condition had significantly improved with CRP levels down to 20 mg/L, WBC reduced to 7 x10^9/L, and vital signs within normal limits. It was deemed appropriate for discharge on 14th February. The patient is to continue oral antibiotics for 5 more days and follow up in the outpatient clinic in two weeks. No significant complications were noted during the hospital stay.\n",
      "\n",
      "In summary, the patient responded well to treatment for lobar pneumonia and is medically fit for discharge. The discharge plan includes instructions for ongoing oral antibiotics and outpatient follow-up, with an overall favorable prognosis at the time of discharge.\n"
     ]
    }
   ],
   "source": [
    "print(generate_patient_summary(patient_data))"
   ]
  },
  {
   "cell_type": "code",
   "execution_count": 15,
   "metadata": {
    "colab": {
     "base_uri": "https://localhost:8080/"
    },
    "id": "E10ces6SdHrD",
    "outputId": "4ca45489-5b3c-49d2-c540-1ccd895b5543"
   },
   "outputs": [
    {
     "name": "stdout",
     "output_type": "stream",
     "text": [
      "Upon admission on February 10, 2024, the patient, a 70-year-old male, presented with cough, shortness of breath, hemoptysis, and fever. Diagnostic workup revealed lobar pneumonia with consolidation in the left lower lobe on chest X-ray. Laboratory findings showed elevated CRP levels at 60 mg/L and a white blood cell count of 12 x10^9/L. The patient was diagnosed with lobar pneumonia, unspecified organism, and initiated on IV Amoxicillin.\n",
      "\n",
      "Throughout the hospital course, the patient responded well to treatment with decreasing inflammatory markers and stable vital signs. On February 13, the patient transitioned to oral antibiotics and showed significant clinical improvement with decreasing CRP levels and WBC count. With the patient's condition stabilized, it was deemed appropriate to prepare for discharge.\n",
      "\n",
      "No significant complications were encountered during the hospitalization, and the patient was managed effectively with the prescribed antibiotic regimen. At the time of discharge on February 14, 2024, the patient's vital signs were within normal limits, and he was deemed medically fit to return home.\n",
      "\n",
      "The discharge plan includes instructions for completing a 5-day course of oral antibiotics, as well as a follow-up appointment scheduled at the outpatient clinic in two weeks. The patient will continue with Atorvastatin for cholesterol management as prescribed. Overall, the patient's condition has improved, and he is recommended to maintain a close follow-up to ensure the continuity of care post-discharge.\n"
     ]
    }
   ],
   "source": [
    "# Same code, second run; notice difference as a result of stochastic process\n",
    "print(generate_patient_summary(patient_data))"
   ]
  },
  {
   "cell_type": "code",
   "execution_count": 16,
   "metadata": {
    "colab": {
     "base_uri": "https://localhost:8080/"
    },
    "id": "dRw7sXIZdREe",
    "outputId": "a0264c3d-8f0c-4e91-a5da-2c96522c03ee"
   },
   "outputs": [
    {
     "name": "stdout",
     "output_type": "stream",
     "text": [
      "Discharge Summary:\n",
      "\n",
      "The patient, a 70-year-old male, was admitted on February 10, 2024, presenting with symptoms of cough, shortness of breath, hemoptysis, and fever, consistent with a diagnosis of lobar pneumonia, unspecified organism. Initial assessments revealed consolidation in the left lower lobe on a chest X-ray. The patient's hospital course was marked by empirical antibiotic treatment with Amoxicillin IV and supportive care, showing gradual improvement in clinical parameters.\n",
      "\n",
      "Key laboratory findings displayed a decreasing trend in CRP levels from 60 mg/L on admission to 20 mg/L before discharge, along with a progressive decline in WBC count and stable hemoglobin and platelet levels. Vital signs improved over the hospital stay, with a gradual normalization of temperature and oxygen saturation reaching 98%.\n",
      "\n",
      "In terms of medications, the patient was transitioned from intravenous to oral Amoxicillin, along with continued Atorvastatin for cholesterol management. No new allergies were reported, and there were no major complications during the hospitalization. The patient's condition steadily improved, warranting a discharge on February 14, 2024.\n",
      "\n",
      "Upon discharge, the patient was advised to complete a 5-day course of oral antibiotics at home and scheduled for a follow-up appointment in the outpatient clinic in two weeks. Overall, the patient's response to treatment was favorable, indicating readiness for continued recovery in a post-acute setting.\n"
     ]
    }
   ],
   "source": [
    "# Some counterproductive prompt engineering\n",
    "print(generate_patient_summary(patient_data, \"\"\"\n",
    "You are a clinical assistant tasked with creating a high-quality discharge summary for a patient who recently completed an inpatient hospital stay. Your goal is to produce a medically accurate, well-organized, and concise document that can be used directly by receiving providers for continued patient care.\n",
    "\n",
    "Use the structured patient data in the input to write a discharge summary that adheres to professional standards outlined by clinical guides such as those on Geeky Medics and from hospital best practices.\n",
    "\n",
    "Follow these steps in your reasoning before generating the final summary:\n",
    "\n",
    "Step 1: Read the patient data and identify key elements:\n",
    "  - What is the primary diagnosis (not just a symptom)?\n",
    "  - What significant history impacts post-discharge care?\n",
    "  - What medications are current and which were adjusted?\n",
    "  - What major procedures or tests occurred?\n",
    "  - What events defined the hospital course?\n",
    "  - What tasks or checks remain post-discharge?\n",
    "  - Are there any scheduled follow-up appointments?\n",
    "\n",
    "Step 2: Organize the discharge summary using these standard sections:\n",
    "  - Patient Details (Name, Age, MRN if available)\n",
    "  - Reason for Admission\n",
    "  - Relevant Past Medical History\n",
    "  - Hospital Course\n",
    "  - Significant Tests & Procedures\n",
    "  - Medications at Discharge (and any changes)\n",
    "  - Allergies\n",
    "  - Outstanding Issues\n",
    "  - Follow-Up and Appointments\n",
    "\n",
    "Step 3: Maintain a formal, clinical tone. Be precise but concise. Only include information that supports continued care.\n",
    "\n",
    "Output only the final formatted discharge summary, without revealing the reasoning steps.\n",
    "\"\"\"))"
   ]
  },
  {
   "cell_type": "code",
   "execution_count": 17,
   "metadata": {},
   "outputs": [],
   "source": [
    "def load_patient_data(json_file):\n",
    "    \"\"\"Load patient data from uploaded JSON file and return formatted patient list for dropdown\"\"\"\n",
    "    try:\n",
    "        # Read the JSON content\n",
    "        if json_file is None:\n",
    "            return [], {}\n",
    "\n",
    "        content = json_file.decode('utf-8')\n",
    "        patients_data = json.loads(content)\n",
    "\n",
    "        # Create formatted choices for dropdown: \"ID: Name\"\n",
    "        patient_choices = []\n",
    "        patient_data_dict = {}\n",
    "\n",
    "        for patient in patients_data:\n",
    "            patient_id = patient.get(\"patient_id\", \"Unknown\")\n",
    "            patient_name = patient.get(\"patient_demographics\", {}).get(\"name\", \"Unknown\")\n",
    "            display_text = f\"{patient_id}: {patient_name}\"\n",
    "            patient_choices.append(display_text)\n",
    "            patient_data_dict[display_text] = patient\n",
    "\n",
    "        return patient_choices, patient_data_dict\n",
    "    except Exception as e:\n",
    "        print(f\"Error loading patient data: {e}\")\n",
    "        return [], {}"
   ]
  },
  {
   "cell_type": "code",
   "execution_count": 18,
   "metadata": {},
   "outputs": [
    {
     "name": "stdout",
     "output_type": "stream",
     "text": [
      "* Running on local URL:  http://127.0.0.1:7860\n",
      "\n",
      "To create a public link, set `share=True` in `launch()`.\n"
     ]
    },
    {
     "data": {
      "text/html": [
       "<div><iframe src=\"http://127.0.0.1:7860/\" width=\"100%\" height=\"500\" allow=\"autoplay; camera; microphone; clipboard-read; clipboard-write;\" frameborder=\"0\" allowfullscreen></iframe></div>"
      ],
      "text/plain": [
       "<IPython.core.display.HTML object>"
      ]
     },
     "metadata": {},
     "output_type": "display_data"
    },
    {
     "name": "stdout",
     "output_type": "stream",
     "text": [
      "Keyboard interruption in main thread... closing server.\n"
     ]
    }
   ],
   "source": [
    "def generate_pdf(patient_selection, custom_message, patient_data_dict):\n",
    "    \"\"\"Generate a PDF discharge letter for the selected patient\"\"\"\n",
    "    try:\n",
    "        if not patient_selection or patient_selection not in patient_data_dict:\n",
    "            return None\n",
    "\n",
    "        patient_data = patient_data_dict[patient_selection]\n",
    "        # letter_content = generate_discharge_letter(patient_data, custom_message)\n",
    "        letter_content = generate_patient_summary(patient_data, custom_message)\n",
    "\n",
    "        # Create a PDF instance\n",
    "        pdf = FPDF()\n",
    "        pdf.add_page()\n",
    "\n",
    "        # Add title with larger font\n",
    "        pdf.set_font(\"Times\", \"B\", size=24)\n",
    "        pdf.cell(200, 20, txt=\"Discharge Letter\", ln=True, align='C')\n",
    "\n",
    "        # Add the content to the PDF\n",
    "        pdf.set_font(\"Times\", size=12)\n",
    "        pdf.multi_cell(0, 10, txt=letter_content)\n",
    "\n",
    "        # Add footer\n",
    "        pdf.set_y(0)\n",
    "        pdf.set_font(\"Times\", \"I\", size=10)\n",
    "        pdf.cell(200, 10, txt=\"256 Baker Street, Pune, India | +1 (412)844-1891 | Micro Mini Hospitals Pvt. Ltd.\", ln=True, align='C')\n",
    "\n",
    "        # Save the PDF to a temporary file\n",
    "        output_path = \"discharge_letter.pdf\"\n",
    "        pdf.output(output_path)\n",
    "\n",
    "        return output_path\n",
    "    except Exception as e:\n",
    "        print(f\"Error generating PDF: {e}\")\n",
    "        return None\n",
    "\n",
    "# Create Gradio interface\n",
    "with gr.Blocks() as demo:\n",
    "    gr.Markdown(\"# Patient Discharge Letter Generator\")\n",
    "\n",
    "    # Store patient data in state\n",
    "    patient_data_dict = gr.State({})\n",
    "\n",
    "    with gr.Row():\n",
    "        json_file = gr.File(\n",
    "            label=\"Upload Patient JSON Data\",\n",
    "            file_types=[\".json\"],\n",
    "            type=\"binary\"\n",
    "        )\n",
    "\n",
    "    with gr.Row():\n",
    "        patient_dropdown = gr.Dropdown(\n",
    "            choices=[],\n",
    "            label=\"Select a patient\",\n",
    "            value=None,\n",
    "            interactive=True\n",
    "        )\n",
    "\n",
    "    with gr.Row():\n",
    "        custom_message = gr.Textbox(\n",
    "            label=\"Additional Notes for Discharge Letter\",\n",
    "            placeholder=\"Enter any additional instructions or notes for the discharge letter\",\n",
    "            lines=3\n",
    "        )\n",
    "\n",
    "    with gr.Row():\n",
    "        generate_button = gr.Button(\"Generate Discharge Letter\")\n",
    "\n",
    "    pdf_output = gr.File(label=\"Download your Discharge Letter\")\n",
    "\n",
    "    # Update dropdown when JSON is uploaded\n",
    "    def update_dropdown(file):\n",
    "        if file is None:\n",
    "            return [], {}\n",
    "        patient_choices, patient_dict = load_patient_data(file)\n",
    "        return gr.Dropdown(choices=patient_choices), patient_dict\n",
    "\n",
    "    json_file.change(\n",
    "        fn=update_dropdown,\n",
    "        inputs=[json_file],\n",
    "        outputs=[patient_dropdown, patient_data_dict]\n",
    "    )\n",
    "\n",
    "    # Generate PDF when button is clicked\n",
    "    generate_button.click(\n",
    "        fn=generate_pdf,\n",
    "        inputs=[patient_dropdown, custom_message, patient_data_dict],\n",
    "        outputs=pdf_output\n",
    "    )\n",
    "\n",
    "# Launch the app\n",
    "if __name__ == \"__main__\":\n",
    "    demo.launch(debug=True)"
   ]
  },
  {
   "cell_type": "code",
   "execution_count": null,
   "metadata": {},
   "outputs": [
    {
     "ename": "",
     "evalue": "",
     "output_type": "error",
     "traceback": [
      "\u001b[1;31mnotebook controller is DISPOSED. \n",
      "\u001b[1;31mView Jupyter <a href='command:jupyter.viewOutput'>log</a> for further details."
     ]
    }
   ],
   "source": []
  }
 ],
 "metadata": {
  "colab": {
   "provenance": []
  },
  "kernelspec": {
   "display_name": "env",
   "language": "python",
   "name": "python3"
  },
  "language_info": {
   "codemirror_mode": {
    "name": "ipython",
    "version": 3
   },
   "file_extension": ".py",
   "mimetype": "text/x-python",
   "name": "python",
   "nbconvert_exporter": "python",
   "pygments_lexer": "ipython3",
   "version": "3.11.12"
  }
 },
 "nbformat": 4,
 "nbformat_minor": 0
}
